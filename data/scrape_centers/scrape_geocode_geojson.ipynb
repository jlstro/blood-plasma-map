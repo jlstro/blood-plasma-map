{
 "cells": [
  {
   "cell_type": "code",
   "execution_count": 1,
   "metadata": {},
   "outputs": [],
   "source": [
    "import requests\n",
    "import time\n",
    "import pandas as pd\n",
    "pd.set_option('display.max_columns', None, 'display.max_colwidth', 500)\n",
    "from selenium import webdriver\n",
    "from selenium.webdriver.common.keys import Keys\n",
    "from selenium.webdriver.support.ui import Select\n",
    "import os\n",
    "api_key = os.environ['GMAP_API']\n",
    "import json"
   ]
  },
  {
   "cell_type": "code",
   "execution_count": null,
   "metadata": {},
   "outputs": [],
   "source": [
    "#navigate to donation center map\n",
    "driver = webdriver.Chrome()\n",
    "driver.get('https://www.donatingplasma.org/donation/find-a-donor-center')\n",
    "#wait for page to load correctly, sometimes it was slow\n",
    "time.sleep(3)\n",
    "results = driver.find_elements_by_class_name('result-inner')"
   ]
  },
  {
   "cell_type": "code",
   "execution_count": null,
   "metadata": {},
   "outputs": [],
   "source": [
    "#put info into dict\n",
    "#I use 'properties.' names here to make geojson conversion easier later\n",
    "centers = []\n",
    "for center in results:\n",
    "    try:\n",
    "        post = {}\n",
    "        post['properties.name'] = center.find_element_by_class_name('loc-name').text \n",
    "        post['properties.address'] = center.find_element_by_class_name('loc-address').text\n",
    "        try:\n",
    "            post['properties.phone'] = center.find_element_by_class_name('loc-phone').text\n",
    "        except:\n",
    "            pass\n",
    "        centers.append(post)\n",
    "    except:\n",
    "        #check problems by hand:\n",
    "        print(center.find_element_by_class_name('loc-name').text,'\\n', center.find_element_by_class_name('loc-address').text,'\\n---------------')"
   ]
  },
  {
   "cell_type": "code",
   "execution_count": null,
   "metadata": {},
   "outputs": [],
   "source": [
    "#check scraping worked\n",
    "centers[:3]"
   ]
  },
  {
   "cell_type": "code",
   "execution_count": null,
   "metadata": {},
   "outputs": [],
   "source": [
    "#convert into df and save\n",
    "df = pd.DataFrame(centers)\n",
    "df.to_csv('donor_centers_raw.csv', index = False)\n",
    "#check if all worked\n",
    "df.head()"
   ]
  },
  {
   "cell_type": "code",
   "execution_count": null,
   "metadata": {},
   "outputs": [],
   "source": [
    "#-+-+-+-+-+-+-+-+-+-+-+-+-+-+-+-+-+-+-+-+-+-+-+-+-+-+-+-+-+-+-+-+-+-+-+-+-+-+-+-+-+-+-+-+-+-\n",
    "#uncomment this cell to load file instead of going through the scraping again\n",
    "df = pd.read_csv('donor_centers_raw.csv')\n",
    "#df.head()"
   ]
  },
  {
   "cell_type": "code",
   "execution_count": null,
   "metadata": {},
   "outputs": [],
   "source": [
    "#this function geocodes the addresses from the \"address\" column into new columns 'lat, 'long', county and 'state'\n",
    "#for geojson a 'coordinates' key with both lat & long would've been better, but for all other use cases this is probably more helpful\n",
    "def get_coordinates(row):\n",
    "    # sometimes the API was a bit picky with me, so I inserted a time.sleep here. \n",
    "    #THIS WILL ADD 10+ MINUTES to the whole process if de-commented!\n",
    "    # time.sleep(5)\n",
    "    this_center = {}\n",
    "    address = row['properties.address']\n",
    "    url = 'https://maps.googleapis.com/maps/api/geocode/json'\n",
    "    #make sure api_key is defined as environment variable\n",
    "    keys = {'address': address, 'key': api_key}\n",
    "    geo = requests.get(url,params=keys)\n",
    "    geodata = geo.json()\n",
    "    try:\n",
    "        return pd.Series({'geometry.lat' : geodata['results'][0]['geometry']['location']['lat'], 'geometry.long' : geodata['results'][0]['geometry']['location']['lng'], 'properties.county' : geodata['results'][0]['address_components'][-4]['short_name'], 'properties.state' : geodata['results'][0]['address_components'][-3]['short_name']})\n",
    "    except:\n",
    "        print('Failed: ', geo.json())"
   ]
  },
  {
   "cell_type": "code",
   "execution_count": null,
   "metadata": {
    "scrolled": true
   },
   "outputs": [],
   "source": [
    "# run function & save to new file\n",
    "df = df.apply(get_coordinates, axis = 1).join(df)\n",
    "df.to_csv('donor_centers_geocoded.csv', index = False)\n",
    "df.head()"
   ]
  },
  {
   "cell_type": "code",
   "execution_count": 2,
   "metadata": {},
   "outputs": [],
   "source": [
    "#-+-+-+-+-+-+-+-+-+-+-+-+-+-+-+-+-+-+-+-+-+-+-+-+-+-+-+-+-+-+-+-+-+-+-+-+-+-+-+-+-+-+-+-+-+-\n",
    "#uncomment this cell to load file instead of going through the geocoding again\n",
    "#df = pd.read_csv('donor_centers_geocoded.csv')\n",
    "#df.head()"
   ]
  },
  {
   "cell_type": "code",
   "execution_count": 3,
   "metadata": {},
   "outputs": [
    {
     "data": {
      "text/plain": [
       "CSL Plasma                                 170\n",
       "Grifols Biomat USA                         101\n",
       "BioLife Plasma Services                     88\n",
       "Grifols Talecris Plasma Resources, Inc.     73\n",
       "Octapharma Plasma Inc.                      49\n",
       "BPL Plasma, Inc.                            27\n",
       "Biotest Plasma                              22\n",
       "Octapharma Plasma, Inc.                     20\n",
       "KEDPLASMA, LLC                              14\n",
       "Plasma Service Europe GmbH                   9\n",
       "Name: properties.name, dtype: int64"
      ]
     },
     "execution_count": 3,
     "metadata": {},
     "output_type": "execute_result"
    }
   ],
   "source": [
    "#extract companies (as far as I get) - check for common names first\n",
    "df['properties.name'].value_counts().head(10)"
   ]
  },
  {
   "cell_type": "code",
   "execution_count": 4,
   "metadata": {},
   "outputs": [],
   "source": [
    "#very simple function to extract company names from the center name\n",
    "list_of_companies = ['haema', 'grifols', 'biolife', 'csl', 'bpl', 'octapharm', 'biolife', 'biotest', 'kedplasma']\n",
    "def get_company(row):\n",
    "    name = row['properties.name'].lower()\n",
    "    for company in list_of_companies:\n",
    "        if company in name:\n",
    "            return company"
   ]
  },
  {
   "cell_type": "code",
   "execution_count": 5,
   "metadata": {},
   "outputs": [
    {
     "data": {
      "text/plain": [
       "csl          176\n",
       "grifols      175\n",
       "biolife       96\n",
       "octapharm     72\n",
       "haema         36\n",
       "bpl           33\n",
       "biotest       28\n",
       "kedplasma     25\n",
       "Name: properties.company, dtype: int64"
      ]
     },
     "execution_count": 5,
     "metadata": {},
     "output_type": "execute_result"
    }
   ],
   "source": [
    "df['properties.company'] = df.apply(get_company, axis = 1)\n",
    "df['properties.company'].value_counts()"
   ]
  },
  {
   "cell_type": "code",
   "execution_count": 6,
   "metadata": {},
   "outputs": [],
   "source": [
    "#function builds geojson from df\n",
    "# every column that has a 'properties.' in the name becomes a geojson property, '.geomotry' becomes a lat/long data point\n",
    "def to_geojson(dataframe):\n",
    "    geo_data = {\"type\": \"FeatureCollection\", \"features\":[]}\n",
    "    for row in dataframe:        \n",
    "        this_dict = {\"type\": \"Feature\", \"properties\":{}, \"geometry\": {}}\n",
    "        this_dict['geometry']= {'type' : 'Point', 'coordinates' : [row['geometry.lat'], row['geometry.long']]}\n",
    "        for key, value in row.items():\n",
    "            key_names = key.split('.')            \n",
    "            if str(key_names[0]) == 'properties':\n",
    "                this_dict['properties'][key_names[1]] = value\n",
    "        geo_data['features'].append(this_dict)\n",
    "    return geo_data"
   ]
  },
  {
   "cell_type": "code",
   "execution_count": 7,
   "metadata": {},
   "outputs": [],
   "source": [
    "# turn table the right way\n",
    "centers_json = json.loads(df.to_json(orient='records'))\n",
    "centers_geo = to_geojson(centers_json)"
   ]
  },
  {
   "cell_type": "code",
   "execution_count": 8,
   "metadata": {},
   "outputs": [],
   "source": [
    "#write to file\n",
    "with open('geo-data_centers.geojson', 'w') as outfile:\n",
    "    json.dump(centers_geo, outfile)"
   ]
  },
  {
   "cell_type": "code",
   "execution_count": null,
   "metadata": {},
   "outputs": [],
   "source": [
    "#THIS IS ONLY FOR JONS METHOD TO RUN MAP W/O SERVER! REMOVE THIS COMMENT LINE BEFORE RUNNING!\n",
    "#%%bash \n",
    "#wc -w geo-data_centers.js\n",
    "#echo \"infoData =\" | cat - geo-data_centers.js > temp.js && mv temp.js geo-data_centers.js\n",
    "#wc -w geo-data_centers.js"
   ]
  },
  {
   "cell_type": "code",
   "execution_count": null,
   "metadata": {},
   "outputs": [],
   "source": []
  }
 ],
 "metadata": {
  "kernelspec": {
   "display_name": "Python 3",
   "language": "python",
   "name": "python3"
  },
  "language_info": {
   "codemirror_mode": {
    "name": "ipython",
    "version": 3
   },
   "file_extension": ".py",
   "mimetype": "text/x-python",
   "name": "python",
   "nbconvert_exporter": "python",
   "pygments_lexer": "ipython3",
   "version": "3.6.5"
  }
 },
 "nbformat": 4,
 "nbformat_minor": 2
}
